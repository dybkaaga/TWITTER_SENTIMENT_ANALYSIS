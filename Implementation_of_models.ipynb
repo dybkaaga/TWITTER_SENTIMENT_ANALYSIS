{
  "nbformat": 4,
  "nbformat_minor": 0,
  "metadata": {
    "colab": {
      "provenance": [],
      "toc_visible": true
    },
    "kernelspec": {
      "name": "python3",
      "display_name": "Python 3"
    },
    "language_info": {
      "name": "python"
    }
  },
  "cells": [
    {
      "cell_type": "markdown",
      "source": [
        "#Import lib"
      ],
      "metadata": {
        "id": "FDRX2uR_YIfF"
      }
    },
    {
      "cell_type": "code",
      "source": [
        "import joblib\n",
        "import pandas as pd\n",
        "import numpy as np\n",
        "\n",
        "import re\n",
        "import string\n",
        "import nltk\n",
        "nltk.download('punkt')\n",
        "nltk.download('stopwords')\n",
        "\n",
        "from sklearn.base import BaseEstimator, TransformerMixin\n",
        "from sklearn.feature_extraction.text import TfidfVectorizer\n",
        "from sklearn.pipeline import Pipeline"
      ],
      "metadata": {
        "colab": {
          "base_uri": "https://localhost:8080/"
        },
        "id": "JDweDGjl7Ll7",
        "outputId": "953cb97d-a2cd-4662-a4f4-9782aa68de86"
      },
      "execution_count": null,
      "outputs": [
        {
          "output_type": "stream",
          "name": "stderr",
          "text": [
            "[nltk_data] Downloading package punkt to /root/nltk_data...\n",
            "[nltk_data]   Unzipping tokenizers/punkt.zip.\n",
            "[nltk_data] Downloading package stopwords to /root/nltk_data...\n",
            "[nltk_data]   Unzipping corpora/stopwords.zip.\n"
          ]
        }
      ]
    },
    {
      "cell_type": "code",
      "source": [
        "from google.colab import drive\n",
        "drive.mount('/content/drive')"
      ],
      "metadata": {
        "colab": {
          "base_uri": "https://localhost:8080/"
        },
        "id": "1NJ_8052A10j",
        "outputId": "c6d3ca33-607f-4e9b-a8d5-7f6d5f57c547"
      },
      "execution_count": null,
      "outputs": [
        {
          "output_type": "stream",
          "name": "stdout",
          "text": [
            "Mounted at /content/drive\n"
          ]
        }
      ]
    },
    {
      "cell_type": "markdown",
      "source": [
        "# Functions and classes"
      ],
      "metadata": {
        "id": "bjDnZYDFYL7c"
      }
    },
    {
      "cell_type": "code",
      "source": [
        "stopwords = nltk.corpus.stopwords.words('english')\n",
        "stemmer = nltk.PorterStemmer()\n",
        "\n",
        "def remove_urls(data):\n",
        "    return re.sub('((www.[^s]+)|(https?://[^s]+))',' ',data)\n",
        "\n",
        "class RemoveUrlTrasformer(BaseEstimator, TransformerMixin):\n",
        "    def __init__(self, text_column):\n",
        "        self.text_column = text_column\n",
        "\n",
        "    def fit(self, X, y=None):\n",
        "        return self\n",
        "\n",
        "    def transform(self, X, y=None):\n",
        "        X_ = X.copy()\n",
        "        X_[self.text_column] = X_[self.text_column].apply(lambda x: remove_urls(x))\n",
        "        return X_\n",
        "\n",
        "\n",
        "def remove_numbers(data):\n",
        "    return re.sub('[0-9]+', '', data)\n",
        "\n",
        "class RemoveNumbersTransformer(BaseEstimator, TransformerMixin):\n",
        "    def __init__(self, text_column):\n",
        "        self.text_column = text_column\n",
        "\n",
        "    def fit(self, X, y=None):\n",
        "        return self\n",
        "\n",
        "    def transform(self, X, y=None):\n",
        "        X_ = X.copy()\n",
        "        X_[self.text_column] = X_[self.text_column].apply(lambda x: remove_numbers(x))\n",
        "        return X_\n",
        "\n",
        "\n",
        "def remove_usernames(data):\n",
        "    return re.sub('@\\w+', '', data)\n",
        "\n",
        "class RemoveUserNamesTransformer(BaseEstimator, TransformerMixin):\n",
        "    def __init__(self, text_column):\n",
        "        self.text_column = text_column\n",
        "\n",
        "    def fit(self, X, y=None):\n",
        "        return self\n",
        "\n",
        "    def transform(self, X, y=None):\n",
        "        X_ = X.copy()\n",
        "        X_[self.text_column] = X_[self.text_column].apply(lambda x: remove_usernames(x))\n",
        "        return X_\n",
        "\n",
        "\n",
        "def remove_punctuation(text):\n",
        "    cleaned = ''.join([word for word in text if word not in string.punctuation])\n",
        "    return cleaned\n",
        "\n",
        "class RemovePunctuationTransformer(BaseEstimator, TransformerMixin):\n",
        "    def __init__(self, text_column):\n",
        "        self.text_column = text_column\n",
        "\n",
        "    def fit(self, X, y=None):\n",
        "        return self\n",
        "\n",
        "    def transform(self, X, y=None):\n",
        "        X_ = X.copy()\n",
        "        X_[self.text_column] = X_[self.text_column].apply(lambda x: remove_punctuation(x))\n",
        "        return X_\n",
        "\n",
        "\n",
        "def tokenizer(text):\n",
        "    #change to small letters\n",
        "    lower_text = text.lower()\n",
        "    #Tokenize\n",
        "    tokenized_text = nltk.word_tokenize(lower_text)\n",
        "    return tokenized_text\n",
        "    \n",
        "class TokenizationTransformer(BaseEstimator, TransformerMixin):\n",
        "    def __init__(self, text_column):\n",
        "        self.text_column = text_column\n",
        "    def fit(self, X, y=None):\n",
        "        return self\n",
        "    def transform(self, X, y=None):\n",
        "        X_ = X.copy()\n",
        "        X_[self.text_column] = X_[self.text_column].apply(lambda x: tokenizer(x))\n",
        "        return X_\n",
        "\n",
        "\n",
        "def remove_stopwords(text):\n",
        "    without_stopwords = [word for word in text if word not in stopwords]\n",
        "    return without_stopwords\n",
        "\n",
        "class RemoveStopWordsTransformer(BaseEstimator, TransformerMixin):\n",
        "    def __init__(self, text_column):\n",
        "        self.text_column = text_column\n",
        "    def fit(self, X, y=None):\n",
        "        return self\n",
        "    def transform(self, X, y=None):\n",
        "        X_ = X.copy()\n",
        "        X_[self.text_column] = X_[self.text_column].apply(lambda x: remove_stopwords(x))\n",
        "        return X_\n",
        "\n",
        "\n",
        "def remove_short_tokens(text):\n",
        "    without_short_tokens = [word for word in text if len(word) > 2]\n",
        "    return without_short_tokens\n",
        "\n",
        "class RemoveShortTokensTransformer(BaseEstimator, TransformerMixin):\n",
        "    def __init__(self, text_column):\n",
        "        self.text_column = text_column\n",
        "    def fit(self, X, y=None):\n",
        "        return self\n",
        "    def transform(self, X, y=None):\n",
        "        X_ = X.copy()\n",
        "        X_[self.text_column] = X_[self.text_column].apply(lambda x: remove_short_tokens(x))\n",
        "        return X_\n",
        "\n",
        "\n",
        "def stemming(text):\n",
        "    stemwords = [stemmer.stem(word) for word in text]\n",
        "    return stemwords\n",
        "\n",
        "class StemmingTransformer(BaseEstimator, TransformerMixin):\n",
        "    def __init__(self, text_column):\n",
        "        self.text_column = text_column\n",
        "    def fit(self, X, y=None):\n",
        "        return self\n",
        "    def transform(self, X, y=None):\n",
        "        X_ = X.copy()\n",
        "        X_[self.text_column] = X_[self.text_column].apply(lambda x: stemming(x))\n",
        "        return X_\n",
        "\n",
        "\n",
        "def return_string(text):\n",
        "    str_text = ' '.join(text)\n",
        "    return str_text\n",
        "\n",
        "class Return_String_Transformer(BaseEstimator, TransformerMixin):\n",
        "    def __init__(self, text_column):\n",
        "        self.text_column = text_column\n",
        "        \n",
        "    def fit(self, X, y=None):\n",
        "        return self\n",
        "    \n",
        "    def transform(self, X, y=None):\n",
        "        X_ = X.copy()\n",
        "        X_[self.text_column] = X_[self.text_column].apply(lambda x: return_string(x))\n",
        "        return X_"
      ],
      "metadata": {
        "id": "o-OOxCVY6kxx"
      },
      "execution_count": null,
      "outputs": []
    },
    {
      "cell_type": "markdown",
      "source": [
        "#Simple dataframe to test"
      ],
      "metadata": {
        "id": "tp0c5r5xYU_E"
      }
    },
    {
      "cell_type": "code",
      "source": [
        "new_X = pd.DataFrame(np.array([[\"I am very happy\"]]))\n",
        "new_X.columns = ['text']\n",
        "new_X"
      ],
      "metadata": {
        "colab": {
          "base_uri": "https://localhost:8080/",
          "height": 80
        },
        "id": "1t7gDbxtXQGt",
        "outputId": "022aeb2d-0494-4e42-a2c8-3edf77321f1e"
      },
      "execution_count": null,
      "outputs": [
        {
          "output_type": "execute_result",
          "data": {
            "text/plain": [
              "              text\n",
              "0  I am very happy"
            ],
            "text/html": [
              "\n",
              "  <div id=\"df-11fa5afd-5a57-451d-bec1-be38d4830d26\">\n",
              "    <div class=\"colab-df-container\">\n",
              "      <div>\n",
              "<style scoped>\n",
              "    .dataframe tbody tr th:only-of-type {\n",
              "        vertical-align: middle;\n",
              "    }\n",
              "\n",
              "    .dataframe tbody tr th {\n",
              "        vertical-align: top;\n",
              "    }\n",
              "\n",
              "    .dataframe thead th {\n",
              "        text-align: right;\n",
              "    }\n",
              "</style>\n",
              "<table border=\"1\" class=\"dataframe\">\n",
              "  <thead>\n",
              "    <tr style=\"text-align: right;\">\n",
              "      <th></th>\n",
              "      <th>text</th>\n",
              "    </tr>\n",
              "  </thead>\n",
              "  <tbody>\n",
              "    <tr>\n",
              "      <th>0</th>\n",
              "      <td>I am very happy</td>\n",
              "    </tr>\n",
              "  </tbody>\n",
              "</table>\n",
              "</div>\n",
              "      <button class=\"colab-df-convert\" onclick=\"convertToInteractive('df-11fa5afd-5a57-451d-bec1-be38d4830d26')\"\n",
              "              title=\"Convert this dataframe to an interactive table.\"\n",
              "              style=\"display:none;\">\n",
              "        \n",
              "  <svg xmlns=\"http://www.w3.org/2000/svg\" height=\"24px\"viewBox=\"0 0 24 24\"\n",
              "       width=\"24px\">\n",
              "    <path d=\"M0 0h24v24H0V0z\" fill=\"none\"/>\n",
              "    <path d=\"M18.56 5.44l.94 2.06.94-2.06 2.06-.94-2.06-.94-.94-2.06-.94 2.06-2.06.94zm-11 1L8.5 8.5l.94-2.06 2.06-.94-2.06-.94L8.5 2.5l-.94 2.06-2.06.94zm10 10l.94 2.06.94-2.06 2.06-.94-2.06-.94-.94-2.06-.94 2.06-2.06.94z\"/><path d=\"M17.41 7.96l-1.37-1.37c-.4-.4-.92-.59-1.43-.59-.52 0-1.04.2-1.43.59L10.3 9.45l-7.72 7.72c-.78.78-.78 2.05 0 2.83L4 21.41c.39.39.9.59 1.41.59.51 0 1.02-.2 1.41-.59l7.78-7.78 2.81-2.81c.8-.78.8-2.07 0-2.86zM5.41 20L4 18.59l7.72-7.72 1.47 1.35L5.41 20z\"/>\n",
              "  </svg>\n",
              "      </button>\n",
              "      \n",
              "  <style>\n",
              "    .colab-df-container {\n",
              "      display:flex;\n",
              "      flex-wrap:wrap;\n",
              "      gap: 12px;\n",
              "    }\n",
              "\n",
              "    .colab-df-convert {\n",
              "      background-color: #E8F0FE;\n",
              "      border: none;\n",
              "      border-radius: 50%;\n",
              "      cursor: pointer;\n",
              "      display: none;\n",
              "      fill: #1967D2;\n",
              "      height: 32px;\n",
              "      padding: 0 0 0 0;\n",
              "      width: 32px;\n",
              "    }\n",
              "\n",
              "    .colab-df-convert:hover {\n",
              "      background-color: #E2EBFA;\n",
              "      box-shadow: 0px 1px 2px rgba(60, 64, 67, 0.3), 0px 1px 3px 1px rgba(60, 64, 67, 0.15);\n",
              "      fill: #174EA6;\n",
              "    }\n",
              "\n",
              "    [theme=dark] .colab-df-convert {\n",
              "      background-color: #3B4455;\n",
              "      fill: #D2E3FC;\n",
              "    }\n",
              "\n",
              "    [theme=dark] .colab-df-convert:hover {\n",
              "      background-color: #434B5C;\n",
              "      box-shadow: 0px 1px 3px 1px rgba(0, 0, 0, 0.15);\n",
              "      filter: drop-shadow(0px 1px 2px rgba(0, 0, 0, 0.3));\n",
              "      fill: #FFFFFF;\n",
              "    }\n",
              "  </style>\n",
              "\n",
              "      <script>\n",
              "        const buttonEl =\n",
              "          document.querySelector('#df-11fa5afd-5a57-451d-bec1-be38d4830d26 button.colab-df-convert');\n",
              "        buttonEl.style.display =\n",
              "          google.colab.kernel.accessAllowed ? 'block' : 'none';\n",
              "\n",
              "        async function convertToInteractive(key) {\n",
              "          const element = document.querySelector('#df-11fa5afd-5a57-451d-bec1-be38d4830d26');\n",
              "          const dataTable =\n",
              "            await google.colab.kernel.invokeFunction('convertToInteractive',\n",
              "                                                     [key], {});\n",
              "          if (!dataTable) return;\n",
              "\n",
              "          const docLinkHtml = 'Like what you see? Visit the ' +\n",
              "            '<a target=\"_blank\" href=https://colab.research.google.com/notebooks/data_table.ipynb>data table notebook</a>'\n",
              "            + ' to learn more about interactive tables.';\n",
              "          element.innerHTML = '';\n",
              "          dataTable['output_type'] = 'display_data';\n",
              "          await google.colab.output.renderOutput(dataTable, element);\n",
              "          const docLink = document.createElement('div');\n",
              "          docLink.innerHTML = docLinkHtml;\n",
              "          element.appendChild(docLink);\n",
              "        }\n",
              "      </script>\n",
              "    </div>\n",
              "  </div>\n",
              "  "
            ]
          },
          "metadata": {},
          "execution_count": 14
        }
      ]
    },
    {
      "cell_type": "markdown",
      "source": [
        "#Model 1 to test"
      ],
      "metadata": {
        "id": "CnQlOSkTYYF9"
      }
    },
    {
      "cell_type": "code",
      "source": [
        "decision_tree = joblib.load('/content/drive/MyDrive/Colab_Notebooks/PROJEKT_GRUPA_3/models_joblib/baseline_classifier.pkl')"
      ],
      "metadata": {
        "id": "dKtbJfsfWwXW"
      },
      "execution_count": null,
      "outputs": []
    },
    {
      "cell_type": "code",
      "source": [
        "predictions = decision_tree.predict(new_X)\n",
        "predictions"
      ],
      "metadata": {
        "colab": {
          "base_uri": "https://localhost:8080/"
        },
        "id": "7UK7cQI3XIeW",
        "outputId": "781d35f2-3e17-4984-cbad-74cebd263b36"
      },
      "execution_count": null,
      "outputs": [
        {
          "output_type": "execute_result",
          "data": {
            "text/plain": [
              "array([1])"
            ]
          },
          "metadata": {},
          "execution_count": 16
        }
      ]
    },
    {
      "cell_type": "markdown",
      "source": [
        "#Model 2 to test"
      ],
      "metadata": {
        "id": "7IW_9hS4YfJ0"
      }
    },
    {
      "cell_type": "code",
      "source": [
        "Log_reg = joblib.load('/content/drive/MyDrive/Colab_Notebooks/PROJEKT_GRUPA_3/models_joblib/logistic_regression_5.pkl')"
      ],
      "metadata": {
        "id": "1gpVx4Jy5jqu"
      },
      "execution_count": null,
      "outputs": []
    },
    {
      "cell_type": "code",
      "source": [
        "vectorizer = TfidfVectorizer(\n",
        "    lowercase=True,\n",
        "    max_features = 10000,  \n",
        "    ngram_range=(1, 3), \n",
        "    stop_words='english'\n",
        "    )\n",
        "\n",
        "new_X_vec = vectorizer.fit_transform(new_X)"
      ],
      "metadata": {
        "id": "FitLo9UsBU5d"
      },
      "execution_count": null,
      "outputs": []
    },
    {
      "cell_type": "code",
      "source": [
        "predictions = Log_reg.predict(new_X_vec)\n",
        "predictions"
      ],
      "metadata": {
        "id": "6QJIFfahIkVz"
      },
      "execution_count": null,
      "outputs": []
    },
    {
      "cell_type": "markdown",
      "source": [
        "#Model 3 to test"
      ],
      "metadata": {
        "id": "loAFS3tIDKep"
      }
    },
    {
      "cell_type": "code",
      "source": [
        "SVCmodel = joblib.load('/content/drive/MyDrive/Colab_Notebooks/PROJEKT_GRUPA_3/models_joblib/svc_5.pkl')"
      ],
      "metadata": {
        "id": "caD22RLmDJPJ"
      },
      "execution_count": null,
      "outputs": []
    },
    {
      "cell_type": "code",
      "source": [
        "predictions = SVCmodel.predict(new_X_vec)\n",
        "predictions"
      ],
      "metadata": {
        "id": "bBHGAPIzIof7"
      },
      "execution_count": null,
      "outputs": []
    }
  ]
}